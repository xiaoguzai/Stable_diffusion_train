{
 "cells": [
  {
   "cell_type": "code",
   "execution_count": 1,
   "id": "8bab5ca8",
   "metadata": {},
   "outputs": [
    {
     "name": "stderr",
     "output_type": "stream",
     "text": [
      "2024-05-09 22:44:53,684 - modelscope - INFO - PyTorch version 2.2.2+cu121 Found.\n",
      "2024-05-09 22:44:53,686 - modelscope - INFO - TensorFlow version 2.13.1 Found.\n",
      "2024-05-09 22:44:53,687 - modelscope - INFO - Loading ast index from /home/xiaoguzai/.cache/modelscope/ast_indexer\n",
      "2024-05-09 22:44:53,814 - modelscope - INFO - Loading done! Current index file version is 1.12.0, with md5 b8f860ecc7bb6a97665e7bfb45244406 and a total number of 964 components indexed\n",
      "2024-05-09 22:44:55,093 - modelscope - WARNING - Model revision not specified, use revision: v1.0.0\n",
      "Downloading: 100%|█████████████████████████████| 849/849 [00:00<00:00, 99.6kB/s]\n",
      "Downloading: 100%|█████████████████████████████| 180/180 [00:00<00:00, 18.9kB/s]\n",
      "Downloading: 100%|███████████████████████████| 196M/196M [00:07<00:00, 28.7MB/s]\n",
      "Downloading: 100%|██████████████████████████| 3.05k/3.05k [00:00<00:00, 515kB/s]\n",
      "Downloading: 100%|███████████████████████████| 263k/263k [00:00<00:00, 1.97MB/s]\n",
      "Downloading: 100%|███████████████████████████| 107k/107k [00:00<00:00, 1.06MB/s]\n"
     ]
    }
   ],
   "source": [
    "#模型下载\n",
    "from modelscope import snapshot_download\n",
    "model_dir = snapshot_download('langboat/mengzi-bert-base')"
   ]
  },
  {
   "cell_type": "code",
   "execution_count": null,
   "id": "2d7dee72",
   "metadata": {},
   "outputs": [],
   "source": []
  }
 ],
 "metadata": {
  "kernelspec": {
   "display_name": "Python 3 (ipykernel)",
   "language": "python",
   "name": "python3"
  },
  "language_info": {
   "codemirror_mode": {
    "name": "ipython",
    "version": 3
   },
   "file_extension": ".py",
   "mimetype": "text/x-python",
   "name": "python",
   "nbconvert_exporter": "python",
   "pygments_lexer": "ipython3",
   "version": "3.8.10"
  }
 },
 "nbformat": 4,
 "nbformat_minor": 5
}
